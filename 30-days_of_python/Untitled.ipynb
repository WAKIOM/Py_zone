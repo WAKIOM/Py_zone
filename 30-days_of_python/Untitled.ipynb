{
 "cells": [
  {
   "cell_type": "code",
   "execution_count": 1,
   "id": "9c97c7dc-2212-4901-b7f9-7a9e80081717",
   "metadata": {},
   "outputs": [],
   "source": [
    "import pandas as pd\n",
    "import numpy as np"
   ]
  },
  {
   "cell_type": "code",
   "execution_count": 13,
   "id": "0b875d72-322b-42d3-95a4-6d47decd2897",
   "metadata": {},
   "outputs": [
    {
     "name": "stdout",
     "output_type": "stream",
     "text": [
      "       Row Labels Accessories     Bikes Clothing Grand Total\n",
      "0       Australia      234832  14290654   125956    14651442\n",
      "1          Canada      163580   2986402    92414     3242396\n",
      "2          France      114174   5248090    53994     5416258\n",
      "3         Germany      118270   5471918    47204     5637392\n",
      "4  United Kingdom      136376   6004866    64354     6205596\n"
     ]
    }
   ],
   "source": [
    "#load file \n",
    "file = \"Sales.csv\"\n",
    "sales = pd.read_csv(file, header=1)\n",
    "#get a look of how the file looks like\n",
    "print(sales.head())"
   ]
  },
  {
   "cell_type": "code",
   "execution_count": 12,
   "id": "2052cd68-0f8e-4155-8487-fcd1ff536808",
   "metadata": {},
   "outputs": [
    {
     "data": {
      "text/plain": [
       "Index(['Row Labels', 'Accessories', 'Bikes', 'Clothing', 'Grand Total'], dtype='object')"
      ]
     },
     "execution_count": 12,
     "metadata": {},
     "output_type": "execute_result"
    }
   ],
   "source": [
    "sales.columns"
   ]
  },
  {
   "cell_type": "code",
   "execution_count": 15,
   "id": "b7b33816-cd2f-4334-94b4-05a9eb3aaae3",
   "metadata": {},
   "outputs": [
    {
     "name": "stdout",
     "output_type": "stream",
     "text": [
      "       Row Labels Accessories     Bikes Clothing Grand Total\n",
      "count          15          15        15       15          15\n",
      "unique          8          15        15       15          15\n",
      "top     Australia      234832  14290654   125956    14651442\n",
      "freq            2           1         1        1           1\n"
     ]
    }
   ],
   "source": [
    "print(sales.describe())"
   ]
  },
  {
   "cell_type": "code",
   "execution_count": null,
   "id": "a8116e49-7100-497b-8895-1bb79224717d",
   "metadata": {},
   "outputs": [],
   "source": []
  }
 ],
 "metadata": {
  "kernelspec": {
   "display_name": "Python 3 (ipykernel)",
   "language": "python",
   "name": "python3"
  },
  "language_info": {
   "codemirror_mode": {
    "name": "ipython",
    "version": 3
   },
   "file_extension": ".py",
   "mimetype": "text/x-python",
   "name": "python",
   "nbconvert_exporter": "python",
   "pygments_lexer": "ipython3",
   "version": "3.10.6"
  }
 },
 "nbformat": 4,
 "nbformat_minor": 5
}
